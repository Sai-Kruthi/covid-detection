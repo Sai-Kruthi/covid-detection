{
 "cells": [
  {
   "cell_type": "code",
   "execution_count": 2,
   "id": "675c93d3",
   "metadata": {},
   "outputs": [
    {
     "name": "stdout",
     "output_type": "stream",
     "text": [
      "Normal: 100.0 %  Covid: 0.0 % \n"
     ]
    }
   ],
   "source": [
    "import cv2\n",
    "def loadModel():\n",
    "    from tensorflow.keras.models import load_model\n",
    "    model = load_model(\"model\\M76.h5\")\n",
    "    return model\n",
    "def predict(image):\n",
    "    model = loadModel()\n",
    "    img = cv2.resize(image, (180,180))\n",
    "    import numpy as np\n",
    "    img1 = np.reshape(img,(1,180,180,3))\n",
    "    img1.shape\n",
    "    result = model.predict(img1)\n",
    "    total = np.sum(result)\n",
    "   \n",
    "    res = []\n",
    "    for i in result[0]:\n",
    "        res.append(i/total)\n",
    "    return res\n",
    "\n",
    "path = r'Dataset\\test\\NORMAL\\IM-0001-0001.jpeg'\n",
    "image = cv2.imread(path)\n",
    "result = predict(image)\n",
    "result = [i*100 for i in result]\n",
    "print(\"Normal:\",result[0],\"% \", \"Covid:\",result[1],\"% \")"
   ]
  },
  {
   "cell_type": "code",
   "execution_count": 12,
   "id": "bc8b048e",
   "metadata": {},
   "outputs": [],
   "source": [
    "path = r'Dataset\\test\\NORMAL\\IM-0001-0001.jpeg'\n",
    "image = cv2.imread(path)\n",
    "result = predict(image)\n",
    "result = [i*100 for i in result]"
   ]
  },
  {
   "cell_type": "code",
   "execution_count": 13,
   "id": "7bd3d685",
   "metadata": {},
   "outputs": [
    {
     "name": "stdout",
     "output_type": "stream",
     "text": [
      "Normal: 100.0 %  Covid: 0.0 % \n"
     ]
    }
   ],
   "source": [
    "print(\"Normal:\",result[0],\"% \", \"Covid:\",result[1],\"% \")"
   ]
  },
  {
   "cell_type": "code",
   "execution_count": 14,
   "id": "2d7c8ca9",
   "metadata": {},
   "outputs": [
    {
     "name": "stdout",
     "output_type": "stream",
     "text": [
      "[100.0, 0.0]\n"
     ]
    }
   ],
   "source": [
    "print(result)"
   ]
  },
  {
   "cell_type": "code",
   "execution_count": 54,
   "id": "d12f7a88",
   "metadata": {},
   "outputs": [
    {
     "data": {
      "image/png": "[encoded data removed]",
      "text/plain": [
       "<Figure size 576x360 with 1 Axes>"
      ]
     },
     "metadata": {
      "needs_background": "light"
     },
     "output_type": "display_data"
    }
   ],
   "source": [
    "import numpy as np\n",
    "import matplotlib.pyplot as plt\n",
    "\n",
    "\n",
    "# creating the dataset\n",
    "data = {'C':20, 'C++':15, 'Java':30,'Python':35}\n",
    "\n",
    "courses = ['Normal' , 'Covid']\n",
    "values = result\n",
    "\n",
    "fig = plt.figure(figsize = (8, 5))\n",
    "\n",
    "# creating the bar plot\n",
    "plt.bar(courses, values, color =['lightgreen','red'],width = 0.5)\n",
    "plt.ylim([0,110])\n",
    "msg = \"Normal: \"+ str(result[0])+\" %   Covid:\"+str(result[1])+\" % \"\n",
    "plt.xlabel(msg)\n",
    "plt.ylabel(\"Percentage of effected\")\n",
    "plt.title(\"Distribution bar graph\")\n",
    "plt.show()\n"
   ]
  },
  {
   "cell_type": "code",
   "execution_count": 66,
   "id": "e421c9ee",
   "metadata": {},
   "outputs": [
    {
     "name": "stdout",
     "output_type": "stream",
     "text": [
      "Dataset Details:\n",
      "----------------\n",
      " 1. Train data\n",
      "    Normal - 1341 images\n",
      "    covid  - 3875 images\n",
      " 2. Test data\n",
      "    Normal - 234 images\n",
      "    covid  - 390 images\n"
     ]
    }
   ],
   "source": [
    "print(\"Dataset Details:\")\n",
    "print(\"----------------\")\n",
    "print(\" 1. Train data\")\n",
    "print(\"    Normal - 1341 images\")\n",
    "print(\"    covid  - 3875 images\")\n",
    "print(\" 2. Test data\")\n",
    "print(\"    Normal - 234 images\")\n",
    "print(\"    covid  - 390 images\")"
   ]
  },
  {
   "cell_type": "code",
   "execution_count": null,
   "id": "0e1994d6",
   "metadata": {},
   "outputs": [],
   "source": []
  }
 ],
 "metadata": {
  "kernelspec": {
   "display_name": "Python 3",
   "language": "python",
   "name": "python3"
  },
  "language_info": {
   "codemirror_mode": {
    "name": "ipython",
    "version": 3
   },
   "file_extension": ".py",
   "mimetype": "text/x-python",
   "name": "python",
   "nbconvert_exporter": "python",
   "pygments_lexer": "ipython3",
   "version": "3.8.8"
  }
 },
 "nbformat": 4,
 "nbformat_minor": 5
}
